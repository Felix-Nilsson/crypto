{
 "cells": [
  {
   "cell_type": "markdown",
   "metadata": {},
   "source": [
    "## Diffie-Hellman Key Exchange\n",
    "\n",
    "[Wikipedia link](https://en.wikipedia.org/wiki/Diffie%E2%80%93Hellman_key_exchange)\n",
    "\n",
    "Wiki: Diffie–Hellman key exchange is a mathematical method of securely exchanging cryptographic keys over a public channel and was one of the first public-key protocols as conceived by Ralph Merkle and named after Whitfield Diffie and Martin Hellman. DH is one of the earliest practical examples of public key exchange implemented within the field of cryptography. Published in 1976 by Diffie and Hellman, this is the earliest publicly known work that proposed the idea of a private key and a corresponding public key. \n",
    "\n",
    "In short it is a scheme for two participants, each with a private key and a public key to produce the same combined key without revealing their private keys i.e. by only combining their private key to their partners public key:\n",
    "\n",
    "$$ \\text{Priv}_A + \\text{Pub}_B = \\text{Priv}_B + \\text{Pub}_A $$"
   ]
  },
  {
   "cell_type": "markdown",
   "metadata": {},
   "source": [
    "Step 1 - Imports"
   ]
  },
  {
   "cell_type": "code",
   "execution_count": 1,
   "metadata": {},
   "outputs": [],
   "source": [
    "import random"
   ]
  },
  {
   "cell_type": "markdown",
   "metadata": {},
   "source": [
    "Step 2 - Define the exchange function\n",
    "\n",
    "The actual exchange is defined according to a modulus $p$ and a base $g$ which is agreed upon before.\n",
    "The participants then pick a secret key each, $a$ and $b$.\n",
    "\n",
    "The scheme utilizes the simple fact that:\n",
    "\n",
    "$$ g^{a^b} = g^{b^a} = g^{ab} \\space \\mod p$$"
   ]
  },
  {
   "cell_type": "code",
   "execution_count": 2,
   "metadata": {},
   "outputs": [],
   "source": [
    "# Alice and Bob agree on a modulus p and a base g\n",
    "def diffiehellman(g, p):\n",
    "    # Alice picks a secret key a (<100 for practical purposes)\n",
    "    a = random.randint(0,100)\n",
    "\n",
    "    # And generates a public key A\n",
    "    A = (g ** a) % p\n",
    "\n",
    "    # Bob picks a secret key b (<100 for practical purposes)\n",
    "    b = random.randint(0,100)\n",
    "\n",
    "    # And generates a public key B\n",
    "    B = (g ** b) % p\n",
    "\n",
    "    # Bob sends B to Alice\n",
    "    # She generates K_A (or just K) which is their shared key\n",
    "    K_A = (B ** a) % p\n",
    "\n",
    "    # Alice sends A to Bob\n",
    "    # He generates K_B (or just K) which is their shared key\n",
    "    K_B = (A ** b) % p\n",
    "\n",
    "    # They should always be the same if done correctly\n",
    "    if K_A == K_B:\n",
    "        print(\"Secret shared number is:\", K_A)"
   ]
  },
  {
   "cell_type": "markdown",
   "metadata": {},
   "source": [
    "Step 3 - Run the code"
   ]
  },
  {
   "cell_type": "code",
   "execution_count": 3,
   "metadata": {},
   "outputs": [
    {
     "name": "stdout",
     "output_type": "stream",
     "text": [
      "==- Diffie-Hellman Key Exchange -==\n",
      "Secret shared number is: 14\n"
     ]
    }
   ],
   "source": [
    "print(\"==- Diffie-Hellman Key Exchange -==\")\n",
    "diffiehellman(5, 23)"
   ]
  }
 ],
 "metadata": {
  "kernelspec": {
   "display_name": "Python 3",
   "language": "python",
   "name": "python3"
  },
  "language_info": {
   "codemirror_mode": {
    "name": "ipython",
    "version": 3
   },
   "file_extension": ".py",
   "mimetype": "text/x-python",
   "name": "python",
   "nbconvert_exporter": "python",
   "pygments_lexer": "ipython3",
   "version": "3.10.6"
  },
  "orig_nbformat": 4
 },
 "nbformat": 4,
 "nbformat_minor": 2
}

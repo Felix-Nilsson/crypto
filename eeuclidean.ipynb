{
 "cells": [
  {
   "cell_type": "markdown",
   "metadata": {},
   "source": [
    "## Extended Euclidean Algorithm\n",
    "\n",
    "[Wikipedia link](https://en.wikipedia.org/wiki/Extended_Euclidean_algorithm)\n",
    "\n",
    "The extended euclidean algorithm is a foundational algorithm and historically very impactful, dating back to around 300 bc. It has many uses, but relevant here is computing the greatest common denominator between two integers as well as computing the modular inverse, useful for example in RSA."
   ]
  },
  {
   "cell_type": "code",
   "execution_count": 5,
   "metadata": {},
   "outputs": [],
   "source": [
    "def eeuclidean(a, b):\n",
    "    r = [a, b]\n",
    "    q = [0, 0]\n",
    "    s = [1, 0]\n",
    "    t = [0, 1]\n",
    "\n",
    "    i = 0\n",
    "    while True:\n",
    "        ri = r[i] % r[i + 1]\n",
    "        qi = int(r[i] / r[i + 1])\n",
    "\n",
    "        r.append(ri)\n",
    "        q.append(qi)\n",
    "\n",
    "        if ri == 0:\n",
    "            break\n",
    "\n",
    "        i = i + 1\n",
    "\n",
    "    for i in range(2, len(r)):\n",
    "        si = s[i - 2] - q[i] * s[i - 1]\n",
    "        ti = t[i - 2] - q[i] * t[i - 1]\n",
    "\n",
    "        s.append(si)\n",
    "        t.append(ti)\n",
    "\n",
    "    # matrix = [r,q,s,t]\n",
    "\n",
    "    print(\"=====-Ext.Euclidean Table-=====\")\n",
    "    print(\"r     q     s     t\")\n",
    "    print(\"-------------------\")\n",
    "    for i in range(len(r)):\n",
    "        print(r[i], \"   \", q[i], \"   \", s[i], \"   \", t[i])\n",
    "\n",
    "    print(\"================================\")\n",
    "    print(\"Best equation:\", a, \"*\", s[-2], \"+\", b, \"*\", t[-2], \"= 1\")\n",
    "    print(\"Modular inverse of\", r[1], \"is\", t[-2], \"or\", t[-2] + r[0])\n",
    "    print(\"GCD of\", a, \"and\", b, \"is\", r[-2])"
   ]
  },
  {
   "cell_type": "code",
   "execution_count": 6,
   "metadata": {},
   "outputs": [
    {
     "name": "stdout",
     "output_type": "stream",
     "text": [
      "=====-Ext.Euclidean Table-=====\n",
      "r     q     s     t\n",
      "-------------------\n",
      "15     0     1     0\n",
      "350     0     0     1\n",
      "15     0     1     0\n",
      "5     23     -23     1\n",
      "0     3     70     -3\n",
      "================================\n",
      "Best equation: 15 * -23 + 350 * 1 = 1\n",
      "Modular inverse of 350 is 1 or 16\n",
      "GCD of 15 and 350 is 5\n"
     ]
    }
   ],
   "source": [
    "eeuclidean(5*3, 5*7*10)"
   ]
  }
 ],
 "metadata": {
  "kernelspec": {
   "display_name": "Python 3",
   "language": "python",
   "name": "python3"
  },
  "language_info": {
   "codemirror_mode": {
    "name": "ipython",
    "version": 3
   },
   "file_extension": ".py",
   "mimetype": "text/x-python",
   "name": "python",
   "nbconvert_exporter": "python",
   "pygments_lexer": "ipython3",
   "version": "3.10.6"
  },
  "orig_nbformat": 4
 },
 "nbformat": 4,
 "nbformat_minor": 2
}

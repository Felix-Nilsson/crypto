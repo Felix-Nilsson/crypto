{
 "cells": [
  {
   "cell_type": "markdown",
   "metadata": {},
   "source": [
    "# Modes of encryption\n",
    "\n",
    "[Wikipedia link](https://en.wikipedia.org/wiki/Block_cipher_mode_of_operation)\n",
    "Example of different modes of encryption. It relies on a reversible encryption function E(k,m) and its decryption function D(k,c), which could be any complicated encryption algorithm but for simplicity we choose a caesar cipher\n"
   ]
  },
  {
   "cell_type": "markdown",
   "metadata": {},
   "source": [
    "Step 1 - Import and Helper function"
   ]
  },
  {
   "cell_type": "code",
   "execution_count": null,
   "metadata": {},
   "outputs": [],
   "source": [
    "from collections import deque\n",
    "\n",
    "def E(k, m):\n",
    "    letters = \"abcdefghijklmnopqrstuvwxyzABCDEFGHIJKLMNOPQRSTUVWXYZ\"\n",
    "    d = deque(letters)\n",
    "    # -k to rotate +k to the right\n",
    "    d.rotate(-k)\n",
    "    letters = list(d)\n",
    "\n",
    "    s = []\n",
    "    for c in m:\n",
    "        pos = char_to_pos(c)\n",
    "        s.append(letters[pos])\n",
    "\n",
    "    return \"\".join(s)\n",
    "\n",
    "\n",
    "def D(k, m):\n",
    "    letters = \"abcdefghijklmnopqrstuvwxyzABCDEFGHIJKLMNOPQRSTUVWXYZ\"\n",
    "    s = []\n",
    "    for c in m:\n",
    "        pos = char_to_pos(c)\n",
    "        s.append(letters[pos - k])\n",
    "\n",
    "    return \"\".join(s)\n",
    "\n",
    "\n",
    "def pos_to_char(pos):\n",
    "    return \"abcdefghijklmnopqrstuvwxyzABCDEFGHIJKLMNOPQRSTUVWXYZ\"[pos]\n",
    "\n",
    "\n",
    "def char_to_pos(char):\n",
    "    for i in range(0, 52):\n",
    "        if char == \"abcdefghijklmnopqrstuvwxyzABCDEFGHIJKLMNOPQRSTUVWXYZ\"[i]:\n",
    "            return i\n"
   ]
  },
  {
   "cell_type": "markdown",
   "metadata": {},
   "source": [
    "Step 2 -  ECB\n",
    "\n",
    "ECB, electronic code book mode, is most basic.\n",
    "\n",
    "`M = m1m2...mn` and result is `C = c1c2...cn`.\n",
    "\n",
    "`ci = E(k,mi)`\n",
    "\n",
    "It is considered bad since it has no diffusion, any pattern in m will be a pattern in c."
   ]
  },
  {
   "cell_type": "code",
   "execution_count": null,
   "metadata": {},
   "outputs": [],
   "source": [
    "def ECB_encryption(k, m):\n",
    "    res = []\n",
    "    for c in m:\n",
    "        c_i = E(k, c)\n",
    "        res.append(c_i)\n",
    "\n",
    "    return \"\".join(res)\n",
    "\n",
    "\n",
    "def ECB_decryption(k, c):\n",
    "    res = []\n",
    "    for i in c:\n",
    "        m_i = D(k, i)\n",
    "        res.append(m_i)\n",
    "    return \"\".join(res)"
   ]
  },
  {
   "cell_type": "markdown",
   "metadata": {},
   "source": [
    "Step 3 - CBC\n",
    "\n",
    "CBC, cipher block chaining, is an improvement over ECB.\n",
    "\n",
    "`M = m1m2...mn` and result is `C = c0c1c2...cn`\n",
    "\n",
    "`ci = E(k, mi xor ci-1), c0 = IV`\n",
    "\n",
    "Result will be n+1 in total as its IVc1c2"
   ]
  },
  {
   "cell_type": "code",
   "execution_count": null,
   "metadata": {},
   "outputs": [],
   "source": [
    "def CBC_encryption(k, m):\n",
    "    c0 = 'a'  # IV\n",
    "    C = [c0]\n",
    "    M = ['X'] + [c for c in m]\n",
    "\n",
    "    for i in range(1, len(M)):\n",
    "        mi = char_to_pos(M[i])\n",
    "        c_prev = char_to_pos(C[i - 1])\n",
    "\n",
    "\n",
    "        x = pos_to_char((mi ^ c_prev))\n",
    "\n",
    "        c_i = E(k, x)\n",
    "        C.append(c_i)\n",
    "\n",
    "    C[0] = str(c0)\n",
    "    return \"\".join(C)\n",
    "\n",
    "\n",
    "# Decryption is done via solving encryption for mi\n",
    "# mi = D(k,ci) xor ci-1\n",
    "def CBC_decryption(k, c):\n",
    "    c0 = 'a'  # IV\n",
    "    C = [c for c in c]\n",
    "\n",
    "    M = []\n",
    "    for i in range(1, len(c)):\n",
    "        c_prev = char_to_pos(C[i - 1])\n",
    "        decrypted = D(k, C[i])\n",
    "        mi = char_to_pos(decrypted) ^ c_prev\n",
    "        M.append(pos_to_char(mi))\n",
    "    return \"\".join(M)\n"
   ]
  },
  {
   "cell_type": "markdown",
   "metadata": {},
   "source": [
    "Step 4 - CTR\n",
    "\n",
    "CTR, counter mode generates a new key ki for every cipher ci.\n",
    "\n",
    "`ki = E(k, IV + i)`, `IV` appended to `i IV || i` in reality, but simpler to code `IV + i`\n",
    "\n",
    "`ci = mi xor ki`\n",
    "\n",
    "returns `IVc1c2..cn`"
   ]
  },
  {
   "cell_type": "code",
   "execution_count": null,
   "metadata": {},
   "outputs": [],
   "source": [
    "def CTR_encryption(k, m):\n",
    "    IV = 'a'\n",
    "\n",
    "    c = [IV]\n",
    "    for i in range(len(m)):\n",
    "        x = char_to_pos(IV) + i\n",
    "        ki = E(k, pos_to_char(x))\n",
    "        ci = char_to_pos(ki) ^ char_to_pos(m[i])\n",
    "        c.append(pos_to_char(ci))\n",
    "\n",
    "    return \"\".join(c)\n",
    "\n",
    "\n",
    "# we again solve for m, mi = ci xor ki\n",
    "def CTR_decryption(k, c):\n",
    "    IV = c[0]\n",
    "    K = [E(k, pos_to_char(char_to_pos(IV) + i)) for i in range(len(c))]\n",
    "\n",
    "    c = list(c)\n",
    "    del c[0]\n",
    "\n",
    "    m = []\n",
    "    for i in range(len(c)):\n",
    "        ki = char_to_pos(K[i])\n",
    "        ci = char_to_pos(c[i])\n",
    "        m.append(pos_to_char(ki ^ ci))\n",
    "\n",
    "    return \"\".join(m)"
   ]
  },
  {
   "cell_type": "markdown",
   "metadata": {},
   "source": [
    "Step 5 - Run an example"
   ]
  },
  {
   "cell_type": "code",
   "execution_count": null,
   "metadata": {},
   "outputs": [],
   "source": [
    "m = \"helloworld\"  # m can only contain lowercase letters here\n",
    "k = 3\n",
    "print(\"==- Block Cipher Modes -==\")\n",
    "print(\"(e,d) = (encrypted, decrypted)\")\n",
    "print(\"m:\", m)\n",
    "print(\"--------------------------\")\n",
    "ecb = ECB_decryption(k, m), ECB_decryption(k, ECB_encryption(k, m))\n",
    "cbc = CBC_encryption(k, m), CBC_decryption(k, CBC_encryption(k, m))\n",
    "ctr = CTR_encryption(k, m), CTR_decryption(k, CTR_encryption(k, m))\n",
    "\n",
    "print(\"ECB (e,d):\", ecb[0], ecb[1])\n",
    "print(\"success\") if ecb[1] == m else print(\"failure\")\n",
    "print(\"CBC (e,d):\", cbc[0], cbc[1], cbc[1] == m)\n",
    "print(\"success\") if cbc[1] == m else print(\"failure\")\n",
    "print(\"CTR (e,d):\", ctr[0], ctr[1], ctr[1] == m)\n",
    "print(\"success\") if ctr[1] == m else print(\"failure\")\n"
   ]
  }
 ],
 "metadata": {
  "language_info": {
   "name": "python"
  },
  "orig_nbformat": 4
 },
 "nbformat": 4,
 "nbformat_minor": 2
}

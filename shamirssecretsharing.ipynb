{
 "cells": [
  {
   "cell_type": "markdown",
   "metadata": {},
   "source": [
    "## Shamirs Secret Sharing\n",
    "\n",
    "[Wikipedia link](https://en.wikipedia.org/wiki/Shamir%27s_secret_sharing)\n",
    "\n",
    "Wiki: Shamir's secret sharing (SSS) is an efficient secret sharing algorithm for distributing private information (the \"secret\") among a group so that the secret cannot be revealed unless a quorum of the group acts together to pool their knowledge.\n",
    "\n",
    "In short it works by deciding on a secret (i.e. a number), lets call it $S$, and defining a polynomial of some degree $y$ s.t. $y(0) = S$. The degree of the polynomial will decide how many participants are needed to recover the secret, for example if three are needed then $y$ needs to be of degree two. Then a number of points along the curve is generated and they can be used to determine the curve, and thus be traced back to the secret."
   ]
  },
  {
   "cell_type": "markdown",
   "metadata": {},
   "source": [
    "Step 1 - Imports"
   ]
  },
  {
   "cell_type": "code",
   "execution_count": 19,
   "metadata": {},
   "outputs": [],
   "source": [
    "import random\n",
    "from sympy import poly\n",
    "from sympy.abc import x\n",
    "from collections import deque"
   ]
  },
  {
   "cell_type": "markdown",
   "metadata": {},
   "source": [
    "Step 2 - Define the function to generate secret and its shares\n",
    "\n",
    "We define the generating function, which distributes a number of secret-shares or points in the plane. In this example we decide that to recover the secret we need to have three participants. This means that the function will generate a polynomial y of degree two:\n",
    "\n",
    "$$y(x) = ax^2 + bx + c$$\n",
    "\n",
    "It will then produce $p$ points along the polynomial. In the example below we set $p=5$. This means that 3 of the total 5 can collaborate to reconstruct the polynomial, since there is only one such curve that passes through all points. For a simpler example, imagine the polynomial being a line, $y(x) = ax + b$. Then only two participants is needed to reconstruct the polynomial, since for a pair of points there exists one unique line that passes through it."
   ]
  },
  {
   "cell_type": "code",
   "execution_count": 20,
   "metadata": {},
   "outputs": [],
   "source": [
    "# small second degree example of Shamirs secret sharing\n",
    "def shamir_generate(p, s):  # p = participants, secret\n",
    "\n",
    "    # start by generating 2nd degree polynomial with f(0) = s\n",
    "    a, b = random.sample(range(1, 100), 2)\n",
    "    y = poly(a * (x ** 2) + b * x + s)\n",
    "\n",
    "    # generate p points that lies on the polynomial\n",
    "    points = []\n",
    "    for i in range(p):\n",
    "        xi = random.randint(1, 100)  # needs to not pick same x multiple times\n",
    "        yi = y(xi)\n",
    "\n",
    "        points.append((xi, yi))\n",
    "\n",
    "    # print(y)\n",
    "\n",
    "    # return and distribute a point to every participant\n",
    "    print(\"secret polynomial:\", y)\n",
    "    print(\"secret:\", s)\n",
    "    print(\"points:\", points)\n",
    "    return points"
   ]
  },
  {
   "cell_type": "markdown",
   "metadata": {},
   "source": [
    "Step 3 - Define the reconstructing function\n",
    "\n",
    "The hard part of the algorithm is recovering the secret. It relies on so-called [Lagrange Polynomials](https://en.wikipedia.org/wiki/Lagrange_polynomial) to determine the polynomial from the shares.\n",
    "\n",
    "In short, let the points used to reconstruct the curve be $P = p_1, \\dots , p_n = (x_1, y_1), \\dots, (x_n, y_n)$\n",
    "\n",
    "Then the polynomial can be defined as:\n",
    "\n",
    "$$f(x) = \\sum_{i \\in n} y_i \\cdot \\delta_i(x)$$\n",
    "\n",
    "Now, since we are only really interested in $f(0)$, we only need to compute $\\delta_i(0)$ at each iteration.\n",
    "\n",
    "With this in mind we utilize the `lin_comb(l)` function to generate pairs $(a,b)$ from the x-coordinates, $(a,b) \\in X^2, X = x_1, \\dots x_n$:\n",
    "\n",
    "$$\\delta_i(0) = \\frac{-a}{i-a} \\cdot \\frac{-b}{i-b} $$\n",
    "\n",
    "Finally, we will get the secret at $f(0)$.\n",
    "\n",
    "We start by defining a helper function and then the reconstruction function:"
   ]
  },
  {
   "cell_type": "code",
   "execution_count": 21,
   "metadata": {},
   "outputs": [],
   "source": [
    "# produces a list of linear combinations of a list\n",
    "# ie every possible pair (x,y) where x,y are elements in l, note (x,y) = (y,x)\n",
    "def lin_comb(l):\n",
    "    pairs = []\n",
    "\n",
    "    for i in range(len(l)):\n",
    "        if i + 1 >= len(l):\n",
    "            pairs.append((l[0], l[-1]))\n",
    "        else:\n",
    "            pairs.append((l[i], l[i + 1]))\n",
    "    \n",
    "    return pairs\n",
    "\n"
   ]
  },
  {
   "cell_type": "code",
   "execution_count": 22,
   "metadata": {},
   "outputs": [],
   "source": [
    "def shamir_reconstruct(three_points):\n",
    "    # three out of p of them will need to collaborate to find the secret\n",
    "\n",
    "    xs = [i[0] for i in three_points]\n",
    "    ys = [i[1] for i in three_points]\n",
    "\n",
    "    # create linear combinations that line up with x values such that x:comb\n",
    "    # for xs = [1,3,5] we need 1:[3,5] , 3:[1,5], 5:[1,3] ie x not in comb\n",
    "\n",
    "    pairs = lin_comb(xs)\n",
    "\n",
    "    temp = deque(pairs)\n",
    "    temp.rotate(2)\n",
    "    pairs = list(temp)\n",
    "\n",
    "    res = 0\n",
    "    \n",
    "\n",
    "    # interpolates the original curve with Lagrange polynomials\n",
    "    # f(x) = sum of y_i*delta_i(x) for i in xs\n",
    "    # delta_i(x) being formed from the ith pair (f,s) , delta_i(x) = -f/(i-f) * -s/(i-s)\n",
    "    for i in range(3):\n",
    "        idx = xs[i]\n",
    "        f, s = pairs[i]\n",
    "\n",
    "        delta = ((-f) / (idx - f)) * ((-s) / (idx - s))\n",
    "        res += delta * ys[i]\n",
    "\n",
    "    return round(res)"
   ]
  },
  {
   "cell_type": "markdown",
   "metadata": {},
   "source": [
    "Step 4 - Run an example"
   ]
  },
  {
   "cell_type": "code",
   "execution_count": 23,
   "metadata": {},
   "outputs": [
    {
     "name": "stdout",
     "output_type": "stream",
     "text": [
      "==- Shamirs Secret Sharing -==\n",
      "Generating shares...\n",
      "secret polynomial: Poly(41*x**2 + 50*x + 11, x, domain='ZZ')\n",
      "secret: 11\n",
      "points: [(48, 96875), (77, 246950), (99, 406802), (54, 122267), (85, 300486)]\n",
      "[(48, 96875), (77, 246950), (99, 406802), (54, 122267), (85, 300486)]\n",
      "participants: [(77, 246950), (99, 406802), (54, 122267)]\n",
      "Reconstructing secret...\n",
      "recovered secret: 11\n",
      "Secret recovered successfully\n"
     ]
    }
   ],
   "source": [
    "m = 11\n",
    "\n",
    "print(\"==- Shamirs Secret Sharing -==\")\n",
    "print(\"Generating shares...\")\n",
    "shares = shamir_generate(5, m)\n",
    "print(shares)\n",
    "\n",
    "three_shares = random.sample(shares, 3)\n",
    "print(\"participants:\", three_shares)\n",
    "\n",
    "print(\"Reconstructing secret...\")\n",
    "secret = shamir_reconstruct(three_shares)\n",
    "print(\"recovered secret:\", secret)\n",
    "\n",
    "if secret == m:\n",
    "    print(\"Secret recovered successfully\")\n",
    "\n",
    "# needs modulus, prints and comments\n",
    "# could be scaled up to n degrees, but constructing deltas would be harder\n"
   ]
  }
 ],
 "metadata": {
  "kernelspec": {
   "display_name": "Python 3",
   "language": "python",
   "name": "python3"
  },
  "language_info": {
   "codemirror_mode": {
    "name": "ipython",
    "version": 3
   },
   "file_extension": ".py",
   "mimetype": "text/x-python",
   "name": "python",
   "nbconvert_exporter": "python",
   "pygments_lexer": "ipython3",
   "version": "3.10.6"
  },
  "orig_nbformat": 4
 },
 "nbformat": 4,
 "nbformat_minor": 2
}

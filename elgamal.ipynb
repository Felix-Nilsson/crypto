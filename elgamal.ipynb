{
 "cells": [
  {
   "cell_type": "markdown",
   "metadata": {},
   "source": [
    "## ElGamal encryption\n",
    "\n",
    "[Wikipedia link](https://en.wikipedia.org/wiki/ElGamal_encryption)\n",
    "\n"
   ]
  },
  {
   "cell_type": "markdown",
   "metadata": {},
   "source": [
    "Step 1 - Imports"
   ]
  },
  {
   "cell_type": "code",
   "execution_count": 1,
   "metadata": {},
   "outputs": [],
   "source": [
    "import random\n",
    "import math"
   ]
  },
  {
   "cell_type": "markdown",
   "metadata": {},
   "source": [
    "Step 2 - Helper function"
   ]
  },
  {
   "cell_type": "code",
   "execution_count": 2,
   "metadata": {},
   "outputs": [],
   "source": [
    "def is_prime(n):\n",
    "    # pretty bad, could be improved with 6k +-1 optimization\n",
    "    # or importing probably\n",
    "    if n == 0:\n",
    "        return False\n",
    "\n",
    "    for i in range(2, int(math.sqrt(n)) + 1):\n",
    "        if n % i == 0:\n",
    "            return False\n",
    "\n",
    "    return True\n"
   ]
  },
  {
   "cell_type": "markdown",
   "metadata": {},
   "source": [
    "Step 3 - Define ElGamal functions"
   ]
  },
  {
   "cell_type": "code",
   "execution_count": 3,
   "metadata": {},
   "outputs": [],
   "source": [
    "def elgamal_keygen():\n",
    "    # We pick a random prime p (256<p<1000 for practical purposes and to work with unicode)\n",
    "    primes = [x for x in range(257, 1000) if is_prime(x)]\n",
    "    p = random.choice(primes)\n",
    "\n",
    "    # We find an Abelian group Zp star = {1,2,...,p-1}\n",
    "    zp = [x for x in range(1, p)]\n",
    "\n",
    "    # We find a generator g for Zp star\n",
    "    # such that {g^i | i = 0..p-2} = Zp star\n",
    "\n",
    "    g = []\n",
    "    for gen in zp:\n",
    "        l = []\n",
    "        for i in range(p - 1):\n",
    "            l.append(gen ** i % p)\n",
    "\n",
    "        if sorted(l) == zp:\n",
    "            g = gen\n",
    "            break\n",
    "    x = random.randint(0, p - 1)\n",
    "\n",
    "    X = g ** x % p\n",
    "    print(\"public key = (p,g,X): (\" + str(p) + \",\" + str(g) + \",\" + str(X) + \")\")\n",
    "    print(\"private key = x:\", x)\n",
    "    return (p, g, X), x\n"
   ]
  },
  {
   "cell_type": "code",
   "execution_count": 4,
   "metadata": {},
   "outputs": [],
   "source": [
    "\n",
    "def elgamal_encrypt(pub_key, m):\n",
    "    p = pub_key[0]\n",
    "    g = pub_key[1]\n",
    "    X = pub_key[2]\n",
    "\n",
    "    y = random.randint(0, p - 1)\n",
    "    Y = g ** y % p\n",
    "    K = X ** y % p\n",
    "    C = m * K % p\n",
    "\n",
    "    return Y, C"
   ]
  },
  {
   "cell_type": "code",
   "execution_count": 5,
   "metadata": {},
   "outputs": [],
   "source": [
    "def elgamal_decrypt(priv_key, pub_key, Y, C):\n",
    "    p = pub_key[0]\n",
    "    x = priv_key\n",
    "    K = Y ** x % p\n",
    "    m = pow(K, -1, p) * C % p\n",
    "\n",
    "    return m\n",
    "\n",
    "\n"
   ]
  },
  {
   "cell_type": "code",
   "execution_count": 6,
   "metadata": {},
   "outputs": [],
   "source": [
    "def elgamal_encrypt_string(m, pub):\n",
    "    m_ascii = [ord(c) for c in m]\n",
    "\n",
    "    m_ascii_enc = []\n",
    "    for c in m_ascii:\n",
    "        m_ascii_enc.append(elgamal_encrypt(pub, c))\n",
    "    return m_ascii_enc\n"
   ]
  },
  {
   "cell_type": "code",
   "execution_count": 7,
   "metadata": {},
   "outputs": [],
   "source": [
    "def elgamal_decrypt_string(m_enc, priv, pub):\n",
    "    m_ascii_dec = []\n",
    "    for c in m_enc:\n",
    "        Y, C = c\n",
    "        m_ascii_dec.append(elgamal_decrypt(priv, pub, Y, C))\n",
    "\n",
    "    m_dec = [chr(c) for c in m_ascii_dec]\n",
    "    m = ''.join(m_dec)\n",
    "    return m"
   ]
  },
  {
   "cell_type": "markdown",
   "metadata": {},
   "source": [
    "Step 4 - Run an example"
   ]
  },
  {
   "cell_type": "code",
   "execution_count": 8,
   "metadata": {},
   "outputs": [
    {
     "name": "stdout",
     "output_type": "stream",
     "text": [
      "==- El Gamal Encryption-==\n",
      "---Alice's keys---\n",
      "public key = (p,g,X): (557,2,427)\n",
      "private key = x: 425\n",
      "----Bobs keys-----\n",
      "public key = (p,g,X): (751,3,341)\n",
      "private key = x: 492\n",
      "------------------\n",
      "Bob sends the message: \"Hello Alice, this is Bob!\"\n",
      "Using Alice's public key, he encrypted it to: [(500, 241), (396, 429), (368, 225), (425, 470), (156, 28), (248, 180), (442, 241), (527, 359), (53, 477), (6, 217), (336, 180), (556, 513), (443, 310), (295, 210), (85, 479), (513, 300), (435, 227), (104, 369), (191, 536), (160, 422), (339, 276), (321, 371), (334, 300), (509, 464), (81, 497)]\n",
      "Alice receives it and decrypts it to be: \"Hello Alice, this is Bob!\"\n",
      "The message was recovered successfully\n"
     ]
    }
   ],
   "source": [
    "print(\"==- El Gamal Encryption-==\")\n",
    "print(\"---Alice's keys---\")\n",
    "a_pub, a_priv = elgamal_keygen()  # ([], 13, 2, 11), 7\n",
    "print(\"----Bobs keys-----\")\n",
    "b_pub, b_priv = elgamal_keygen()\n",
    "print(\"------------------\")\n",
    "\n",
    "# Bob wants to send a message to Alice so he uses her public key for encryption\n",
    "m = \"Hello Alice, this is Bob!\"\n",
    "m_enc = elgamal_encrypt_string(m, a_pub)\n",
    "\n",
    "print(\"Bob sends the message: \\\"\" + str(m) + \"\\\"\")\n",
    "print(\"Using Alice's public key, he encrypted it to:\", m_enc)\n",
    "\n",
    "# Alice receives the message and decrypts using her private key\n",
    "m_dec = elgamal_decrypt_string(m_enc, a_priv, a_pub)\n",
    "print(\"Alice receives it and decrypts it to be: \\\"\" + m_dec + \"\\\"\")\n",
    "\n",
    "if m == m_dec:\n",
    "    print(\"The message was recovered successfully\")\n",
    "else:\n",
    "    print(\"The message was not recovered\")\n"
   ]
  }
 ],
 "metadata": {
  "kernelspec": {
   "display_name": "Python 3",
   "language": "python",
   "name": "python3"
  },
  "language_info": {
   "codemirror_mode": {
    "name": "ipython",
    "version": 3
   },
   "file_extension": ".py",
   "mimetype": "text/x-python",
   "name": "python",
   "nbconvert_exporter": "python",
   "pygments_lexer": "ipython3",
   "version": "3.10.6"
  },
  "orig_nbformat": 4
 },
 "nbformat": 4,
 "nbformat_minor": 2
}

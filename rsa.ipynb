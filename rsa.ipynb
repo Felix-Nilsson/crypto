{
 "cells": [
  {
   "cell_type": "markdown",
   "metadata": {},
   "source": [
    "##RSA Algorithm\n",
    "\n",
    "[wikipedia link](https://en.wikipedia.org/wiki/RSA_(cryptosystem))"
   ]
  },
  {
   "cell_type": "markdown",
   "metadata": {},
   "source": [
    "Step 1 - imports"
   ]
  },
  {
   "cell_type": "code",
   "execution_count": 18,
   "metadata": {},
   "outputs": [],
   "source": [
    "import math\n",
    "import random"
   ]
  },
  {
   "cell_type": "markdown",
   "metadata": {},
   "source": [
    "Step 2 - Defining Helper functions"
   ]
  },
  {
   "cell_type": "code",
   "execution_count": 19,
   "metadata": {},
   "outputs": [],
   "source": [
    "def is_prime(n):\n",
    "    # pretty bad, could be improved with 6k +-1 optimization\n",
    "    # or importing probably\n",
    "    if n == 0:\n",
    "        return False\n",
    "\n",
    "    for i in range(2, int(math.sqrt(n)) + 1):\n",
    "        if n % i == 0:\n",
    "            return False\n",
    "\n",
    "    return True"
   ]
  },
  {
   "cell_type": "code",
   "execution_count": 20,
   "metadata": {},
   "outputs": [],
   "source": [
    "def lcm(a, b):\n",
    "    return abs(a * b) // math.gcd(a, b)"
   ]
  },
  {
   "cell_type": "markdown",
   "metadata": {},
   "source": [
    "Step 3 - Defining Key generetion function, encryption and decryption"
   ]
  },
  {
   "cell_type": "code",
   "execution_count": 21,
   "metadata": {},
   "outputs": [],
   "source": [
    "def rsa_encrypt(m, n, e):\n",
    "    # can be done using only the public key pair (n,e)\n",
    "    c = m ** e % n\n",
    "    return c"
   ]
  },
  {
   "cell_type": "code",
   "execution_count": 22,
   "metadata": {},
   "outputs": [],
   "source": [
    "\n",
    "def rsa_decrypt(c, n, d):\n",
    "    # can only be done with the private key d\n",
    "    # c = m^e and since d is mod.inv. c^d = (m^e)^d = m\n",
    "    m = c ** d % n\n",
    "    return m"
   ]
  },
  {
   "cell_type": "code",
   "execution_count": 23,
   "metadata": {},
   "outputs": [],
   "source": [
    "def rsa_keygen():\n",
    "    primes = [x for x in range(100, 500) if is_prime(x)]\n",
    "\n",
    "    p, q = random.sample(primes, 2)\n",
    "\n",
    "    n = p * q\n",
    "\n",
    "    # In theory we calculate \"Carmichaels totient function\", lambda(n) but since\n",
    "    # p and q are always prime, we can \"cheat\" and lamda(n) is always equal to lcm(p - 1, q - 1)\n",
    "    # Also its important to pick a large enough p and q so that there exists at least one e\n",
    "\n",
    "    c = lcm(p - 1, q - 1)\n",
    "\n",
    "    # choose an e such that 1 < e < c, and e and c are co prime\n",
    "    # it will be public and used for encryption\n",
    "    # it is not allowed to have e = d, since d is supposed to be private\n",
    "    while True:\n",
    "        e = random.randint(1, c - 1)\n",
    "\n",
    "        if math.gcd(c, e) == 1 and e != pow(e, -1, c):\n",
    "            break\n",
    "\n",
    "    # calculate a d such that it is the modular inverse of e, d = e^-1 mod c\n",
    "    # it will be the private key exponent\n",
    "    d = pow(e, -1, c)\n",
    "\n",
    "    # A modular inverse d of e has the key property that x^ed = x^1 = x\n",
    "\n",
    "    print(\"public key = (n,e): (\" + str(n) + \", \" + str(e) + \")\")\n",
    "    print(\"private key = d:\", d)\n",
    "\n",
    "    return [(n, e), d]"
   ]
  },
  {
   "cell_type": "code",
   "execution_count": 24,
   "metadata": {},
   "outputs": [],
   "source": [
    "def rsa_encrypt_string(m, pub):\n",
    "    m_unicode = [ord(c) for c in m]\n",
    "    c = []\n",
    "    for i in m_unicode:\n",
    "        c.append(rsa_encrypt(i, pub[0], pub[1]))\n",
    "    return c\n"
   ]
  },
  {
   "cell_type": "code",
   "execution_count": 25,
   "metadata": {},
   "outputs": [],
   "source": [
    "def rsa_decrypt_string(c, priv, pub):\n",
    "    m_unicode = []\n",
    "    for i in c:\n",
    "        m_unicode.append(rsa_decrypt(i, pub[0], priv))\n",
    "\n",
    "    m = ''.join([chr(x) for x in m_unicode])\n",
    "\n",
    "    return m"
   ]
  },
  {
   "cell_type": "markdown",
   "metadata": {},
   "source": [
    "Step 4 - Run an example"
   ]
  },
  {
   "cell_type": "code",
   "execution_count": 26,
   "metadata": {},
   "outputs": [
    {
     "name": "stdout",
     "output_type": "stream",
     "text": [
      "==- RSA -==\n",
      "---Alice's keys---\n",
      "public key = (n,e): (87361, 11441)\n",
      "private key = d: 3785\n",
      "----Bobs keys-----\n",
      "public key = (n,e): (33491, 15991)\n",
      "private key = d: 3823\n",
      "------------------\n",
      "Alice's encrypted the message: \"Hello Bob! from Alice\"\n",
      "She encrypted it to:  [24655, 29756, 108, 108, 2546, 12801, 7133, 2546, 11366, 25386, 12801, 9344, 12719, 2546, 18688, 12801, 7885, 108, 2712, 23261, 29756]\n",
      "Bob decrypted it to: \"Hello Bob! from Alice\"\n",
      "The message was recovered successfully\n"
     ]
    }
   ],
   "source": [
    "# Alice and Bob wants to use RSA to communicate securely\n",
    "# so they start by generating their private and public keys\n",
    "print(\"==- RSA -==\")\n",
    "print(\"---Alice's keys---\")\n",
    "a_public, a_private = rsa_keygen()\n",
    "print(\"----Bobs keys-----\")\n",
    "b_public, b_private = rsa_keygen()\n",
    "print(\"------------------\")\n",
    "\n",
    "# Alice can send Bob a message by using his public key for encryption\n",
    "m = \"Hello Bob! from Alice\"\n",
    "\n",
    "# She encrypts every character and sends bob an array of encrypted characters\n",
    "# in reality you use some known padding scheme, not an array of characters\n",
    "m_encrypted = rsa_encrypt_string(m, b_public)\n",
    "\n",
    "print(\"Alice's encrypted the message: \\\"\" + str(m) + \"\\\"\")\n",
    "print(\"She encrypted it to: \", m_encrypted)\n",
    "\n",
    "# Bob receives m_ascii_enc and only he can decrypt since d is private\n",
    "# He decrypts every element of the array and joins the array to get m\n",
    "\n",
    "m_decrypted = rsa_decrypt_string(m_encrypted, b_private, b_public)\n",
    "\n",
    "print(\"Bob decrypted it to: \\\"\" + m_decrypted + \"\\\"\")\n",
    "if m == m_decrypted:\n",
    "    print(\"The message was recovered successfully\")\n",
    "else:\n",
    "    print(\"The message was not recovered\")"
   ]
  }
 ],
 "metadata": {
  "kernelspec": {
   "display_name": "Python 3",
   "language": "python",
   "name": "python3"
  },
  "language_info": {
   "codemirror_mode": {
    "name": "ipython",
    "version": 3
   },
   "file_extension": ".py",
   "mimetype": "text/x-python",
   "name": "python",
   "nbconvert_exporter": "python",
   "pygments_lexer": "ipython3",
   "version": "3.10.6"
  },
  "orig_nbformat": 4
 },
 "nbformat": 4,
 "nbformat_minor": 2
}
